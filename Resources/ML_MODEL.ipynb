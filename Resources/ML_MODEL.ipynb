{
 "cells": [
  {
   "cell_type": "markdown",
   "metadata": {},
   "source": [
    "## Dataset Information\n",
    "\n",
    "### Additional Information\n",
    "\n",
    "The dataset includes 244 instances that regroup a data of two regions of Algeria,namely the Bejaia region located in the northeast of Algeria and the Sidi Bel-abbes region located in the northwest of Algeria.\n",
    "- `122` instances for each region. \n",
    "\n",
    "- The period from `June 2012` to `September 2012`. \n",
    "\n",
    "- The dataset includes `11 input attributes `and `1 output attribute (class)`\n",
    "\n",
    "- The 244 instances have been classified into fire (138 classes) and \n",
    "not fire(106 classes) classes."
   ]
  },
  {
   "cell_type": "markdown",
   "metadata": {},
   "source": [
    "### Attribute Information\n",
    "\n",
    "1. Date : (DD/MM/YYYY) Day, month ('june' to 'september'), year (2012) \n",
    "#### Weather data observations \n",
    "\n",
    "2. Temp : temperature noon (temperature max)  in Celsius degrees: 22 to 42\n",
    "\n",
    "3. RH : Relative Humidity in %: 21 to 90 \n",
    "\n",
    "4. Ws :Wind speed in km/h: 6 to 29 \n",
    "\n",
    "5. Rain: total day in mm: 0 to 16.8 \n",
    "\n",
    "#### FWI Components  \n",
    "\n",
    "6. Fine Fuel Moisture Code (FFMC) index from the FWI system: 28.6 to 92.5 \n",
    "\n",
    "7. Duff Moisture Code (DMC) index from the FWI system: 1.1 to 65.9 \n",
    "\n",
    "8. Drought Code (DC) index from the FWI system:  7 to 220.4\n",
    "\n",
    "9. Initial Spread Index (ISI) index from the FWI system: 0 to 18.5 \n",
    "\n",
    "10. Buildup Index (BUI) index from the FWI system: 1.1 to 68\n",
    "\n",
    "11. Fire Weather Index (FWI) Index: 0 to 31.1\n",
    "\n",
    "12. Classes: two classes, namely Fire and not Fire\n"
   ]
  },
  {
   "cell_type": "markdown",
   "metadata": {},
   "source": []
  }
 ],
 "metadata": {
  "language_info": {
   "name": "python"
  }
 },
 "nbformat": 4,
 "nbformat_minor": 2
}
